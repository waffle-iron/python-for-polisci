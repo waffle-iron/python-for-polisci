{
 "cells": [
  {
   "cell_type": "markdown",
   "metadata": {},
   "source": [
    "## Outline\n",
    "#### Introduction to Python\n",
    "#### Data Processing \n",
    "#### Statistics\n",
    "#### Data Analysis\n",
    "#### Data Visualization\n",
    "#### Writing with Jupyter Notebook & Sharing\n",
    "#### Text Analysis\n",
    "#### Network Analysis\n",
    "#### Image Analysis\n",
    "#### Agent-Based Models\n",
    "#### Machine Learning\n",
    "#### Markov Bots (For Fun)"
   ]
  }
 ],
 "metadata": {
  "anaconda-cloud": {},
  "kernelspec": {
   "display_name": "Python [conda root]",
   "language": "python",
   "name": "conda-root-py"
  },
  "language_info": {
   "codemirror_mode": {
    "name": "ipython",
    "version": 3
   },
   "file_extension": ".py",
   "mimetype": "text/x-python",
   "name": "python",
   "nbconvert_exporter": "python",
   "pygments_lexer": "ipython3",
   "version": "3.5.2"
  }
 },
 "nbformat": 4,
 "nbformat_minor": 1
}
