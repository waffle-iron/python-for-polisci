{
 "cells": [
  {
   "cell_type": "markdown",
   "metadata": {},
   "source": [
    "### Papers about political science methodology and computer science\n",
    "\n",
    "* [The Perils of Policy by p-value: Predicting Civil Conflicts](http://www.jstor.org/stable/20752194?seq=1#page_scan_tab_contents) by Michael Ward, Brian Greenhill, and Kristin Bakke\n",
    "* [Seven Deadly Sins of Contemporary Quantitative Political Analysis](http://7ds.parusanalytics.com/) by Philip Schrodt\n",
    "* [In Praise of Lectures](https://www.dpmms.cam.ac.uk/~twk/Lecture.pdf) by T.W. Korner (2004)\n"
   ]
  }
 ],
 "metadata": {
  "anaconda-cloud": {},
  "kernelspec": {
   "display_name": "Python [conda root]",
   "language": "python",
   "name": "conda-root-py"
  },
  "language_info": {
   "codemirror_mode": {
    "name": "ipython",
    "version": 3
   },
   "file_extension": ".py",
   "mimetype": "text/x-python",
   "name": "python",
   "nbconvert_exporter": "python",
   "pygments_lexer": "ipython3",
   "version": "3.5.2"
  }
 },
 "nbformat": 4,
 "nbformat_minor": 2
}
