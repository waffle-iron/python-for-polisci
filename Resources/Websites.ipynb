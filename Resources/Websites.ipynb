{
 "cells": [
  {
   "cell_type": "markdown",
   "metadata": {},
   "source": [
    "### Websites for finding data\n",
    "\n",
    "* [data.world](https://data.world/) To find and put datasets\n",
    "* [Awesome Public Datasets](https://github.com/caesar0301/awesome-public-datasets) Interesting datasets available to everyone\n",
    "\n",
    "### Lessons for Learning Python \n",
    "* [Lectures for University of Washington Software Engineering for Data Scientists](https://github.com/UWSEDS/LectureNotes) Solid lectures for learning Python\n",
    "* [The Programming Historian](http://programminghistorian.org/) \"The Programming Historian offers novice-friendly, peer-reviewed tutorials that help humanists learn a wide range of digital tools, techniques, and workflows to facilitate their research.\"\n",
    "* [Introduction to Statistics with Python](https://github.com/thomas-haslwanter/statsintro_python) Code from the book *Introduction to Statistics with Python*\n",
    "* [Scipy Lecture Notes](http://www.scipy-lectures.org/) \"Tutorials on the scientific Python ecosystem: a quick introduction to central tools and techniques.\"\n",
    "* [Data Carpentry](http://www.datacarpentry.org/lessons/) \"Data Carpentry trains researchers in the core data skills for efficient, shareable, and reproducible research practices.\"\n",
    "* [Dive Into \n",
    "\n",
    "### List of Awesome Tools and Information\n",
    "* [Awesome Python](https://github.com/vinta/awesome-python) A list of awesome Python tools\n",
    "* [Awesome Research Tools](https://github.com/emptymalei/awesome-research) List of tools to help with research\n",
    "* [Awesome Data Visualization Tools](https://github.com/fasouto/awesome-dataviz#python-tools) List of data visualization tools\n",
    "* [Awesome Data Science](https://github.com/bulutyazilim/awesome-datascience) Learning Data Science\n",
    "* [Awesome Machine Learning](https://github.com/josephmisiti/awesome-machine-learning#python) Awesome Machine Learning for Python\n",
    "\n",
    "### Mathematics and Computer Science\n",
    "* [Papers We Love](http://paperswelove.org/) \"Papers We Love is a repository of academic computer science papers and a community who loves reading them\"\n",
    "* [Awesome Mathematics](https://github.com/rossant/awesome-math) Mathematics Resources"
   ]
  }
 ],
 "metadata": {
  "anaconda-cloud": {},
  "kernelspec": {
   "display_name": "Python [conda root]",
   "language": "python",
   "name": "conda-root-py"
  },
  "language_info": {
   "codemirror_mode": {
    "name": "ipython",
    "version": 3
   },
   "file_extension": ".py",
   "mimetype": "text/x-python",
   "name": "python",
   "nbconvert_exporter": "python",
   "pygments_lexer": "ipython3",
   "version": "3.5.2"
  }
 },
 "nbformat": 4,
 "nbformat_minor": 2
}
