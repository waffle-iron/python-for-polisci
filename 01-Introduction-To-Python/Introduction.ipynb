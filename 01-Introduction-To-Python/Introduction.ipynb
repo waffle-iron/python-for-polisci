{
 "cells": [
  {
   "cell_type": "markdown",
   "metadata": {},
   "source": [
    "Lesson 1 is an introduction to the programming language of Python. In this lesson we will download Python, a text editor, and begin basic Python programming."
   ]
  },
  {
   "cell_type": "markdown",
   "metadata": {},
   "source": [
    "The simplest way to download Python is the [Anaconda platform](https://www.continuum.io/downloads) from Continuum Analytics. Anaconda runs on Windows, Mac, and Linux. \n",
    "\n",
    "I am using Anaconda on a Windows 10 machine. I chose the Python 3 distribution because it is the distribution of the present and future. You will have the option to make the Anaconda Python your default Python. I would choose that option as there is not a need to \n",
    "\n",
    "#### Creating a Directory for your code\n",
    "I have a folder named Programming that has a subfolder titled Python. In the folder Python is where I keep my code. \n",
    "\n",
    "#### Downloading a Text Editor\n",
    "One has many options to write Python code. I will primarily be using Jupyter Notebook, which I will get to later, however it is still a good idea to download a text editor.\n",
    "\n",
    "I use [Atom](https://atom.io/) because other people seemed to like it. [Visual Studio Code](https://code.visualstudio.com/) is another good option. Microsoft is putting a lot of effort into Code. [Sublime](https://www.sublimetext.com/) Sublime Text is a favorite of many developers. "
   ]
  }
 ],
 "metadata": {
  "anaconda-cloud": {},
  "kernelspec": {
   "display_name": "Python [conda root]",
   "language": "python",
   "name": "conda-root-py"
  },
  "language_info": {
   "codemirror_mode": {
    "name": "ipython",
    "version": 3
   },
   "file_extension": ".py",
   "mimetype": "text/x-python",
   "name": "python",
   "nbconvert_exporter": "python",
   "pygments_lexer": "ipython3",
   "version": "3.5.2"
  }
 },
 "nbformat": 4,
 "nbformat_minor": 2
}
